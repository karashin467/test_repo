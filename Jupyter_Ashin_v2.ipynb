{
 "cells": [
  {
   "cell_type": "markdown",
   "id": "f6dc37dc-aba3-415d-b258-fc2a077fc050",
   "metadata": {},
   "source": [
    "# Data Science Tools and Ecosystem"
   ]
  },
  {
   "cell_type": "markdown",
   "id": "22adbed2-0e60-4e6f-97e4-988483a52c58",
   "metadata": {},
   "source": [
    "In this notebook, Data Science Tools and Ecosystem are summarized."
   ]
  },
  {
   "cell_type": "markdown",
   "id": "02ce6bc8-34f3-4871-84ad-76c92bcf3595",
   "metadata": {},
   "source": [
    "Some of the popular languages that Data Scientists use are: \n",
    "1. R \n",
    "2. Python \n",
    "3. SQL"
   ]
  },
  {
   "cell_type": "markdown",
   "id": "48abb2eb-e1ea-4916-a3c5-0230f0fcdfda",
   "metadata": {},
   "source": [
    "Some of the commonly used libraries used by Data Scientists include:\n",
    "1. Numpy \n",
    "2. Pandas \n",
    "3. Scikit-Learn\n",
    "4. Seaborn\n",
    "5. Matplot-lib\n",
    "6. Plotly\n",
    "7. data.table\n",
    "8. dplyr\n",
    "9. caret"
   ]
  },
  {
   "cell_type": "markdown",
   "id": "96971f7d-0604-44f8-8eab-d03c126d3039",
   "metadata": {},
   "source": [
    "|Data Science Tools|\n",
    "|-----------------|\n",
    "|jupyter notebook|\n",
    "|R-studio|\n",
    "|Vs-code|"
   ]
  },
  {
   "cell_type": "markdown",
   "id": "00a86297-74b3-4f4d-a5b6-1f9bdc61b5e7",
   "metadata": {},
   "source": [
    "### Below are a few examples of evaluating arithmetic expressions in Python"
   ]
  },
  {
   "cell_type": "code",
   "execution_count": 1,
   "id": "a39cbe04-03f5-4828-9af6-b8928217cf31",
   "metadata": {},
   "outputs": [
    {
     "data": {
      "text/plain": [
       "17"
      ]
     },
     "execution_count": 1,
     "metadata": {},
     "output_type": "execute_result"
    }
   ],
   "source": [
    "#This a simple arithmetic expression to mutiply then add integers#\n",
    "(3*4)+5"
   ]
  },
  {
   "cell_type": "code",
   "execution_count": 2,
   "id": "3f586295-647f-461c-a836-8bd9411dece0",
   "metadata": {},
   "outputs": [
    {
     "data": {
      "text/plain": [
       "3.3333333333333335"
      ]
     },
     "execution_count": 2,
     "metadata": {},
     "output_type": "execute_result"
    }
   ],
   "source": [
    "#This will convert 200 minutes to hours by diving by 60 #\n",
    "200/60"
   ]
  },
  {
   "cell_type": "markdown",
   "id": "c4c7d6de-3b1b-468d-9e60-53f311287388",
   "metadata": {},
   "source": [
    "__Objectives:__\n",
    "* List Popular Languages and IDEs for Data Science \n",
    "* Summarizes all the key features and use cases of each of the languages.\n",
    "* Introduces various libraries and packages for Machine-Learning, Visualization, data-wrangling and deep learning.\n",
    "* Also introduces Programming based as well as non programming (Drop down based) languages for Data Science and Analytics.   \n",
    "\n"
   ]
  },
  {
   "cell_type": "markdown",
   "id": "7cf23b44-d45a-4d81-9714-b84e1787f60e",
   "metadata": {},
   "source": [
    "## Author\n",
    "Ashin Kar"
   ]
  },
  {
   "cell_type": "code",
   "execution_count": null,
   "id": "87dd9826-c636-4af2-a78f-eeff4a6f0d86",
   "metadata": {},
   "outputs": [],
   "source": []
  }
 ],
 "metadata": {
  "kernelspec": {
   "display_name": "Python",
   "language": "python",
   "name": "conda-env-python-py"
  },
  "language_info": {
   "codemirror_mode": {
    "name": "ipython",
    "version": 3
   },
   "file_extension": ".py",
   "mimetype": "text/x-python",
   "name": "python",
   "nbconvert_exporter": "python",
   "pygments_lexer": "ipython3",
   "version": "3.7.12"
  }
 },
 "nbformat": 4,
 "nbformat_minor": 5
}
